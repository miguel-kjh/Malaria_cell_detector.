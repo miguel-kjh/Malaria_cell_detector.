{
  "nbformat": 4,
  "nbformat_minor": 0,
  "metadata": {
    "colab": {
      "name": "Malaria cell detector.ipynb",
      "version": "0.3.2",
      "provenance": [],
      "collapsed_sections": [
        "pp1otgWC2wV-"
      ],
      "include_colab_link": true
    },
    "kernelspec": {
      "name": "python3",
      "display_name": "Python 3"
    },
    "accelerator": "GPU"
  },
  "cells": [
    {
      "cell_type": "markdown",
      "metadata": {
        "id": "view-in-github",
        "colab_type": "text"
      },
      "source": [
        "<a href=\"https://colab.research.google.com/github/miguel-kjh/Malaria_cell_detector./blob/master/Malaria_cell_detector.ipynb\" target=\"_parent\"><img src=\"https://colab.research.google.com/assets/colab-badge.svg\" alt=\"Open In Colab\"/></a>"
      ]
    },
    {
      "cell_type": "code",
      "metadata": {
        "id": "sVix1ybaZERH",
        "colab_type": "code",
        "outputId": "8357a9f3-e8a8-4189-baeb-86f7b8070f3b",
        "colab": {
          "base_uri": "https://localhost:8080/",
          "height": 34
        }
      },
      "source": [
        "from keras.models import *\n",
        "from keras.layers import *\n",
        "from keras.applications import VGG16\n",
        "from keras import layers\n",
        "from keras import optimizers\n",
        "from keras import utils\n",
        "from keras.preprocessing.image import ImageDataGenerator\n",
        "import matplotlib.pyplot as plt\n",
        "import numpy as np\n",
        "from PIL import Image"
      ],
      "execution_count": 1,
      "outputs": [
        {
          "output_type": "stream",
          "text": [
            "Using TensorFlow backend.\n"
          ],
          "name": "stderr"
        }
      ]
    },
    {
      "cell_type": "code",
      "metadata": {
        "id": "nDLEEbQhdgZG",
        "colab_type": "code",
        "outputId": "e3bfe51b-31aa-4741-a741-1ebb03f2f5c3",
        "colab": {
          "base_uri": "https://localhost:8080/",
          "height": 34
        }
      },
      "source": [
        "import tensorflow as tf\n",
        "tf.test.gpu_device_name()"
      ],
      "execution_count": 2,
      "outputs": [
        {
          "output_type": "execute_result",
          "data": {
            "text/plain": [
              "'/device:GPU:0'"
            ]
          },
          "metadata": {
            "tags": []
          },
          "execution_count": 2
        }
      ]
    },
    {
      "cell_type": "code",
      "metadata": {
        "id": "ENwPKWdIE2kw",
        "colab_type": "code",
        "colab": {}
      },
      "source": [
        "def generatePlot(history):\n",
        "  acc = history.history['acc']\n",
        "  val_acc = history.history['val_acc']\n",
        "  loss = history.history['loss']\n",
        "  val_loss = history.history['val_loss']\n",
        "   \n",
        "  epochs = range(len(acc))\n",
        "   \n",
        "  plt.plot(epochs, acc, 'b', label='Training acc')\n",
        "  plt.plot(epochs, val_acc, 'r', label='Validation acc')\n",
        "  plt.title('Training and validation accuracy')\n",
        "  plt.legend()\n",
        "   \n",
        "  plt.figure()\n",
        "   \n",
        "  plt.plot(epochs, loss, 'b', label='Training loss')\n",
        "  plt.plot(epochs, val_loss, 'r', label='Validation loss')\n",
        "  plt.title('Training and validation loss')\n",
        "  plt.legend()\n",
        "   \n",
        "  plt.show()\n",
        "  \n",
        "def fit_validation(model,train,validation,epochs=15):\n",
        "  return model.fit_generator(\n",
        "            train,\n",
        "            steps_per_epoch=train.samples // batch_size,\n",
        "            epochs=epochs, \n",
        "            validation_data=validation,\n",
        "            validation_steps=validation.samples // batch_size)\n",
        "  "
      ],
      "execution_count": 0,
      "outputs": []
    },
    {
      "cell_type": "markdown",
      "metadata": {
        "id": "6iko9Kys2mpB",
        "colab_type": "text"
      },
      "source": [
        "# Se monta el directorio "
      ]
    },
    {
      "cell_type": "code",
      "metadata": {
        "id": "zYyH8xf12S_b",
        "colab_type": "code",
        "outputId": "b0b697a0-4bb0-49d7-9024-eef42853c4cd",
        "colab": {
          "base_uri": "https://localhost:8080/",
          "height": 124
        }
      },
      "source": [
        "from google.colab import drive\n",
        "drive.mount('/content/drive')"
      ],
      "execution_count": 4,
      "outputs": [
        {
          "output_type": "stream",
          "text": [
            "Go to this URL in a browser: https://accounts.google.com/o/oauth2/auth?client_id=947318989803-6bn6qk8qdgf4n4g3pfee6491hc0brc4i.apps.googleusercontent.com&redirect_uri=urn%3Aietf%3Awg%3Aoauth%3A2.0%3Aoob&scope=email%20https%3A%2F%2Fwww.googleapis.com%2Fauth%2Fdocs.test%20https%3A%2F%2Fwww.googleapis.com%2Fauth%2Fdrive%20https%3A%2F%2Fwww.googleapis.com%2Fauth%2Fdrive.photos.readonly%20https%3A%2F%2Fwww.googleapis.com%2Fauth%2Fpeopleapi.readonly&response_type=code\n",
            "\n",
            "Enter your authorization code:\n",
            "··········\n",
            "Mounted at /content/drive\n"
          ],
          "name": "stdout"
        }
      ]
    },
    {
      "cell_type": "markdown",
      "metadata": {
        "id": "pp1otgWC2wV-",
        "colab_type": "text"
      },
      "source": [
        "# Comprobación de datos"
      ]
    },
    {
      "cell_type": "code",
      "metadata": {
        "id": "T5PC2NR_3dOW",
        "colab_type": "code",
        "outputId": "d432407e-a9f7-4ef2-98ba-f4b9ce70eb2d",
        "colab": {
          "base_uri": "https://localhost:8080/",
          "height": 373
        }
      },
      "source": [
        "!ls \"/content/drive/My Drive/Colab Notebooks/Cell malaria/Uninfected\" | head -5\n",
        "pil_im_uninfected = Image.open('/content/drive/My Drive/Colab Notebooks/Cell malaria/Uninfected/C100P61ThinF_IMG_20150918_144104_cell_25.png', 'r')\n",
        "plt.imshow(np.asarray(pil_im_uninfected))"
      ],
      "execution_count": 0,
      "outputs": [
        {
          "output_type": "stream",
          "text": [
            "C100P61ThinF_IMG_20150918_144104_cell_128.png\n",
            "C100P61ThinF_IMG_20150918_144104_cell_131.png\n",
            "C100P61ThinF_IMG_20150918_144104_cell_144.png\n",
            "C100P61ThinF_IMG_20150918_144104_cell_21.png\n",
            "C100P61ThinF_IMG_20150918_144104_cell_25.png\n"
          ],
          "name": "stdout"
        },
        {
          "output_type": "execute_result",
          "data": {
            "text/plain": [
              "<matplotlib.image.AxesImage at 0x7f3ff14065c0>"
            ]
          },
          "metadata": {
            "tags": []
          },
          "execution_count": 8
        },
        {
          "output_type": "display_data",
          "data": {
            "image/png": "[encoded data removed]",
            "text/plain": [
              "<Figure size 432x288 with 1 Axes>"
            ]
          },
          "metadata": {
            "tags": []
          }
        }
      ]
    },
    {
      "cell_type": "code",
      "metadata": {
        "id": "dFyZX8o_5San",
        "colab_type": "code",
        "outputId": "ed9a35e9-58a3-4260-850d-92337eb6b3ff",
        "colab": {
          "base_uri": "https://localhost:8080/",
          "height": 373
        }
      },
      "source": [
        "!ls \"/content/drive/My Drive/Colab Notebooks/Cell malaria/Parasitized\" | head -5\n",
        "pil_im_infected = Image.open('/content/drive/My Drive/Colab Notebooks/Cell malaria/Parasitized/C100P61ThinF_IMG_20150918_144104_cell_162.png', 'r')\n",
        "plt.imshow(np.asarray(pil_im_infected))"
      ],
      "execution_count": 0,
      "outputs": [
        {
          "output_type": "stream",
          "text": [
            "C100P61ThinF_IMG_20150918_144104_cell_162.png\n",
            "C100P61ThinF_IMG_20150918_144104_cell_163.png\n",
            "C100P61ThinF_IMG_20150918_144104_cell_164.png\n",
            "C100P61ThinF_IMG_20150918_144104_cell_165.png\n",
            "C100P61ThinF_IMG_20150918_144104_cell_166.png\n"
          ],
          "name": "stdout"
        },
        {
          "output_type": "execute_result",
          "data": {
            "text/plain": [
              "<matplotlib.image.AxesImage at 0x7f3ff146f898>"
            ]
          },
          "metadata": {
            "tags": []
          },
          "execution_count": 7
        },
        {
          "output_type": "display_data",
          "data": {
            "image/png": "[encoded data removed]",
            "text/plain": [
              "<Figure size 432x288 with 1 Axes>"
            ]
          },
          "metadata": {
            "tags": []
          }
        }
      ]
    },
    {
      "cell_type": "markdown",
      "metadata": {
        "id": "Fvw3GP8SGAwT",
        "colab_type": "text"
      },
      "source": [
        "# Generación de Imagenes"
      ]
    },
    {
      "cell_type": "code",
      "metadata": {
        "id": "GjEZsWW62QFj",
        "colab_type": "code",
        "outputId": "8e322aa2-e361-4d14-8de4-d6f3cf6a1137",
        "colab": {
          "base_uri": "https://localhost:8080/",
          "height": 52
        }
      },
      "source": [
        "image_size=50\n",
        "data_dir = '/content/drive/My Drive/Colab Notebooks/Cell malaria'\n",
        "batch_size = 16\n",
        "datagen = ImageDataGenerator(rescale = 1/255.,\n",
        "                             horizontal_flip = True,\n",
        "                             width_shift_range = 0.2,\n",
        "                             height_shift_range = 0.2,\n",
        "                             zoom_range = 0.3,\n",
        "                             rotation_range = 30,\n",
        "                             validation_split=0.1\n",
        "                            )\n",
        "\n",
        "train_generator = datagen.flow_from_directory(\n",
        "        data_dir,\n",
        "        target_size=(image_size, image_size),\n",
        "        batch_size=batch_size,\n",
        "        class_mode='binary',\n",
        "        subset=\"training\")\n",
        "\n",
        "validation_generator = datagen.flow_from_directory(\n",
        "        data_dir,\n",
        "        target_size=(image_size, image_size),\n",
        "        batch_size=batch_size,\n",
        "        class_mode='binary',\n",
        "        subset=\"validation\")"
      ],
      "execution_count": 6,
      "outputs": [
        {
          "output_type": "stream",
          "text": [
            "Found 9003 images belonging to 3 classes.\n",
            "Found 1000 images belonging to 3 classes.\n"
          ],
          "name": "stdout"
        }
      ]
    },
    {
      "cell_type": "markdown",
      "metadata": {
        "id": "4jJ3PxYu-I58",
        "colab_type": "text"
      },
      "source": [
        "#Uso de la Red VGG16"
      ]
    },
    {
      "cell_type": "markdown",
      "metadata": {
        "id": "_UUpV_t2Fw-Q",
        "colab_type": "text"
      },
      "source": [
        "## *Cargamos la VGG16 y congelamos sus pesos*"
      ]
    },
    {
      "cell_type": "code",
      "metadata": {
        "id": "HNOP_Kfl9SWj",
        "colab_type": "code",
        "outputId": "7d6e90b0-68a9-4a80-ef9a-0fe4301fd49a",
        "colab": {
          "base_uri": "https://localhost:8080/",
          "height": 1215
        }
      },
      "source": [
        "vgg_conv = VGG16(weights='imagenet', \n",
        "                 include_top=False, \n",
        "                 input_shape=(image_size, image_size, 3))\n",
        "\n",
        "for layer in vgg_conv.layers[:7]:\n",
        "    layer.trainable = False\n",
        "    \n",
        "for layer in vgg_conv.layers[11:]:\n",
        "    layer.trainable = False\n",
        "\n",
        "    \n",
        "    \n",
        "for layer in vgg_conv.layers:\n",
        "    print(layer, layer.trainable)\n",
        "vgg_conv.summary()"
      ],
      "execution_count": 7,
      "outputs": [
        {
          "output_type": "stream",
          "text": [
            "WARNING:tensorflow:From /usr/local/lib/python3.6/dist-packages/tensorflow/python/framework/op_def_library.py:263: colocate_with (from tensorflow.python.framework.ops) is deprecated and will be removed in a future version.\n",
            "Instructions for updating:\n",
            "Colocations handled automatically by placer.\n",
            "Downloading data from https://github.com/fchollet/deep-learning-models/releases/download/v0.1/vgg16_weights_tf_dim_ordering_tf_kernels_notop.h5\n",
            "58892288/58889256 [==============================] - 1s 0us/step\n",
            "<keras.engine.input_layer.InputLayer object at 0x7f527d5c54e0> False\n",
            "<keras.layers.convolutional.Conv2D object at 0x7f527d5c5940> False\n",
            "<keras.layers.convolutional.Conv2D object at 0x7f527d5c5e10> False\n",
            "<keras.layers.pooling.MaxPooling2D object at 0x7f527071d6a0> False\n",
            "<keras.layers.convolutional.Conv2D object at 0x7f527071d588> False\n",
            "<keras.layers.convolutional.Conv2D object at 0x7f52706da4a8> False\n",
            "<keras.layers.pooling.MaxPooling2D object at 0x7f52706b5b70> False\n",
            "<keras.layers.convolutional.Conv2D object at 0x7f52706b56d8> True\n",
            "<keras.layers.convolutional.Conv2D object at 0x7f5270757390> True\n",
            "<keras.layers.convolutional.Conv2D object at 0x7f5270742dd8> True\n",
            "<keras.layers.pooling.MaxPooling2D object at 0x7f52705576d8> True\n",
            "<keras.layers.convolutional.Conv2D object at 0x7f5270557208> False\n",
            "<keras.layers.convolutional.Conv2D object at 0x7f52704f63c8> False\n",
            "<keras.layers.convolutional.Conv2D object at 0x7f527050aa20> False\n",
            "<keras.layers.pooling.MaxPooling2D object at 0x7f52704b3198> False\n",
            "<keras.layers.convolutional.Conv2D object at 0x7f52704edda0> False\n",
            "<keras.layers.convolutional.Conv2D object at 0x7f52704ccd30> False\n",
            "<keras.layers.convolutional.Conv2D object at 0x7f5270475588> False\n",
            "<keras.layers.pooling.MaxPooling2D object at 0x7f5270480710> False\n",
            "_________________________________________________________________\n",
            "Layer (type)                 Output Shape              Param #   \n",
            "=================================================================\n",
            "input_1 (InputLayer)         (None, 50, 50, 3)         0         \n",
            "_________________________________________________________________\n",
            "block1_conv1 (Conv2D)        (None, 50, 50, 64)        1792      \n",
            "_________________________________________________________________\n",
            "block1_conv2 (Conv2D)        (None, 50, 50, 64)        36928     \n",
            "_________________________________________________________________\n",
            "block1_pool (MaxPooling2D)   (None, 25, 25, 64)        0         \n",
            "_________________________________________________________________\n",
            "block2_conv1 (Conv2D)        (None, 25, 25, 128)       73856     \n",
            "_________________________________________________________________\n",
            "block2_conv2 (Conv2D)        (None, 25, 25, 128)       147584    \n",
            "_________________________________________________________________\n",
            "block2_pool (MaxPooling2D)   (None, 12, 12, 128)       0         \n",
            "_________________________________________________________________\n",
            "block3_conv1 (Conv2D)        (None, 12, 12, 256)       295168    \n",
            "_________________________________________________________________\n",
            "block3_conv2 (Conv2D)        (None, 12, 12, 256)       590080    \n",
            "_________________________________________________________________\n",
            "block3_conv3 (Conv2D)        (None, 12, 12, 256)       590080    \n",
            "_________________________________________________________________\n",
            "block3_pool (MaxPooling2D)   (None, 6, 6, 256)         0         \n",
            "_________________________________________________________________\n",
            "block4_conv1 (Conv2D)        (None, 6, 6, 512)         1180160   \n",
            "_________________________________________________________________\n",
            "block4_conv2 (Conv2D)        (None, 6, 6, 512)         2359808   \n",
            "_________________________________________________________________\n",
            "block4_conv3 (Conv2D)        (None, 6, 6, 512)         2359808   \n",
            "_________________________________________________________________\n",
            "block4_pool (MaxPooling2D)   (None, 3, 3, 512)         0         \n",
            "_________________________________________________________________\n",
            "block5_conv1 (Conv2D)        (None, 3, 3, 512)         2359808   \n",
            "_________________________________________________________________\n",
            "block5_conv2 (Conv2D)        (None, 3, 3, 512)         2359808   \n",
            "_________________________________________________________________\n",
            "block5_conv3 (Conv2D)        (None, 3, 3, 512)         2359808   \n",
            "_________________________________________________________________\n",
            "block5_pool (MaxPooling2D)   (None, 1, 1, 512)         0         \n",
            "=================================================================\n",
            "Total params: 14,714,688\n",
            "Trainable params: 1,475,328\n",
            "Non-trainable params: 13,239,360\n",
            "_________________________________________________________________\n"
          ],
          "name": "stdout"
        }
      ]
    },
    {
      "cell_type": "markdown",
      "metadata": {
        "id": "jTWLDQsq5X51",
        "colab_type": "text"
      },
      "source": [
        "## RED NEURONAL(capa densa)"
      ]
    },
    {
      "cell_type": "code",
      "metadata": {
        "id": "834dcZjW7aRQ",
        "colab_type": "code",
        "outputId": "62d1e9e6-0bc4-43c5-8844-210307762035",
        "colab": {
          "base_uri": "https://localhost:8080/",
          "height": 1010
        }
      },
      "source": [
        "x = Flatten()(vgg_conv.output)\n",
        "x = Dense(128, activation='relu')(x)\n",
        "x = Dropout(0.3)(x)\n",
        "x = Dense(1, activation='sigmoid')(x)\n",
        "model_vgg16 = Model(inputs = vgg_conv.input, outputs = x)\n",
        " \n",
        "\n",
        "model_vgg16.summary()\n"
      ],
      "execution_count": 8,
      "outputs": [
        {
          "output_type": "stream",
          "text": [
            "WARNING:tensorflow:From /usr/local/lib/python3.6/dist-packages/keras/backend/tensorflow_backend.py:3445: calling dropout (from tensorflow.python.ops.nn_ops) with keep_prob is deprecated and will be removed in a future version.\n",
            "Instructions for updating:\n",
            "Please use `rate` instead of `keep_prob`. Rate should be set to `rate = 1 - keep_prob`.\n",
            "_________________________________________________________________\n",
            "Layer (type)                 Output Shape              Param #   \n",
            "=================================================================\n",
            "input_1 (InputLayer)         (None, 50, 50, 3)         0         \n",
            "_________________________________________________________________\n",
            "block1_conv1 (Conv2D)        (None, 50, 50, 64)        1792      \n",
            "_________________________________________________________________\n",
            "block1_conv2 (Conv2D)        (None, 50, 50, 64)        36928     \n",
            "_________________________________________________________________\n",
            "block1_pool (MaxPooling2D)   (None, 25, 25, 64)        0         \n",
            "_________________________________________________________________\n",
            "block2_conv1 (Conv2D)        (None, 25, 25, 128)       73856     \n",
            "_________________________________________________________________\n",
            "block2_conv2 (Conv2D)        (None, 25, 25, 128)       147584    \n",
            "_________________________________________________________________\n",
            "block2_pool (MaxPooling2D)   (None, 12, 12, 128)       0         \n",
            "_________________________________________________________________\n",
            "block3_conv1 (Conv2D)        (None, 12, 12, 256)       295168    \n",
            "_________________________________________________________________\n",
            "block3_conv2 (Conv2D)        (None, 12, 12, 256)       590080    \n",
            "_________________________________________________________________\n",
            "block3_conv3 (Conv2D)        (None, 12, 12, 256)       590080    \n",
            "_________________________________________________________________\n",
            "block3_pool (MaxPooling2D)   (None, 6, 6, 256)         0         \n",
            "_________________________________________________________________\n",
            "block4_conv1 (Conv2D)        (None, 6, 6, 512)         1180160   \n",
            "_________________________________________________________________\n",
            "block4_conv2 (Conv2D)        (None, 6, 6, 512)         2359808   \n",
            "_________________________________________________________________\n",
            "block4_conv3 (Conv2D)        (None, 6, 6, 512)         2359808   \n",
            "_________________________________________________________________\n",
            "block4_pool (MaxPooling2D)   (None, 3, 3, 512)         0         \n",
            "_________________________________________________________________\n",
            "block5_conv1 (Conv2D)        (None, 3, 3, 512)         2359808   \n",
            "_________________________________________________________________\n",
            "block5_conv2 (Conv2D)        (None, 3, 3, 512)         2359808   \n",
            "_________________________________________________________________\n",
            "block5_conv3 (Conv2D)        (None, 3, 3, 512)         2359808   \n",
            "_________________________________________________________________\n",
            "block5_pool (MaxPooling2D)   (None, 1, 1, 512)         0         \n",
            "_________________________________________________________________\n",
            "flatten_1 (Flatten)          (None, 512)               0         \n",
            "_________________________________________________________________\n",
            "dense_1 (Dense)              (None, 128)               65664     \n",
            "_________________________________________________________________\n",
            "dropout_1 (Dropout)          (None, 128)               0         \n",
            "_________________________________________________________________\n",
            "dense_2 (Dense)              (None, 1)                 129       \n",
            "=================================================================\n",
            "Total params: 14,780,481\n",
            "Trainable params: 1,541,121\n",
            "Non-trainable params: 13,239,360\n",
            "_________________________________________________________________\n"
          ],
          "name": "stdout"
        }
      ]
    },
    {
      "cell_type": "markdown",
      "metadata": {
        "id": "pNnvaoMFHZl2",
        "colab_type": "text"
      },
      "source": [
        "## Compilación y Entrenamiento"
      ]
    },
    {
      "cell_type": "code",
      "metadata": {
        "id": "vcFu2wYJGXIN",
        "colab_type": "code",
        "outputId": "95e34505-9eaf-4bd2-a581-88ee9aa70b4a",
        "colab": {
          "base_uri": "https://localhost:8080/",
          "height": 555
        }
      },
      "source": [
        "model_vgg16.compile(loss='binary_crossentropy',\n",
        "               optimizer='adam',\n",
        "               metrics=['accuracy'])\n",
        "print(\"Compilado...\")\n",
        "\n",
        "\n",
        "# TRAINING --------------------------------------------------\n",
        "\n",
        "epochs = 15\n",
        "history_model_vgg16 = fit_validation(model_vgg16,train_generator,validation_generator)"
      ],
      "execution_count": 0,
      "outputs": [
        {
          "output_type": "stream",
          "text": [
            "Compilado...\n",
            "Epoch 1/15\n",
            "562/562 [==============================] - 70s 124ms/step - loss: 0.3857 - acc: 0.8098 - val_loss: 0.2066 - val_acc: 0.9304\n",
            "Epoch 2/15\n",
            "562/562 [==============================] - 63s 111ms/step - loss: 0.2223 - acc: 0.9239 - val_loss: 0.1907 - val_acc: 0.9309\n",
            "Epoch 3/15\n",
            "562/562 [==============================] - 64s 114ms/step - loss: 0.2138 - acc: 0.9247 - val_loss: 0.2627 - val_acc: 0.8902\n",
            "Epoch 4/15\n",
            "562/562 [==============================] - 59s 106ms/step - loss: 0.2180 - acc: 0.9220 - val_loss: 0.1901 - val_acc: 0.9228\n",
            "Epoch 5/15\n",
            "562/562 [==============================] - 58s 102ms/step - loss: 0.2134 - acc: 0.9259 - val_loss: 0.1827 - val_acc: 0.9228\n",
            "Epoch 6/15\n",
            "562/562 [==============================] - 58s 104ms/step - loss: 0.2063 - acc: 0.9288 - val_loss: 0.1685 - val_acc: 0.9421\n",
            "Epoch 7/15\n",
            "562/562 [==============================] - 58s 103ms/step - loss: 0.1982 - acc: 0.9279 - val_loss: 0.1921 - val_acc: 0.9319\n",
            "Epoch 8/15\n",
            "562/562 [==============================] - 59s 104ms/step - loss: 0.1960 - acc: 0.9299 - val_loss: 0.2192 - val_acc: 0.9258\n",
            "Epoch 9/15\n",
            "562/562 [==============================] - 57s 102ms/step - loss: 0.1864 - acc: 0.9341 - val_loss: 0.1538 - val_acc: 0.9512\n",
            "Epoch 10/15\n",
            "562/562 [==============================] - 57s 102ms/step - loss: 0.1932 - acc: 0.9337 - val_loss: 0.1424 - val_acc: 0.9492\n",
            "Epoch 11/15\n",
            "562/562 [==============================] - 59s 104ms/step - loss: 0.1849 - acc: 0.9353 - val_loss: 0.1726 - val_acc: 0.9360\n",
            "Epoch 12/15\n",
            "562/562 [==============================] - 59s 106ms/step - loss: 0.1819 - acc: 0.9378 - val_loss: 0.1723 - val_acc: 0.9431\n",
            "Epoch 13/15\n",
            "562/562 [==============================] - 58s 103ms/step - loss: 0.1788 - acc: 0.9392 - val_loss: 0.1961 - val_acc: 0.9309\n",
            "Epoch 14/15\n",
            "562/562 [==============================] - 58s 103ms/step - loss: 0.1781 - acc: 0.9373 - val_loss: 0.1696 - val_acc: 0.9390\n",
            "Epoch 15/15\n",
            "562/562 [==============================] - 60s 107ms/step - loss: 0.1788 - acc: 0.9380 - val_loss: 0.1592 - val_acc: 0.9492\n"
          ],
          "name": "stdout"
        }
      ]
    },
    {
      "cell_type": "markdown",
      "metadata": {
        "id": "W0k4fNTKZ-Tb",
        "colab_type": "text"
      },
      "source": [
        "# Red convolutiva, propia"
      ]
    },
    {
      "cell_type": "code",
      "metadata": {
        "id": "LJl1B8tnZ9ZC",
        "colab_type": "code",
        "outputId": "db93c68d-9434-4535-bb3f-ec7b04622b35",
        "colab": {
          "base_uri": "https://localhost:8080/",
          "height": 486
        }
      },
      "source": [
        "#creating sequential model\n",
        "model_conv=Sequential()\n",
        "model_conv.add(Conv2D(filters=32,kernel_size=3,activation=\"relu\",input_shape=(image_size,image_size,3)))\n",
        "model_conv.add(MaxPooling2D(2,2))\n",
        "\n",
        "model_conv.add(Conv2D(filters=32,kernel_size=3,activation=\"relu\"))\n",
        "model_conv.add(MaxPooling2D(2,2))\n",
        "\n",
        "model_conv.add(Conv2D(filters=32,kernel_size=3,activation=\"relu\"))\n",
        "model_conv.add(MaxPooling2D(2,2))\n",
        "\n",
        "model_conv.add(Flatten())\n",
        "model_conv.add(Dense(256,activation=\"relu\"))\n",
        "model_conv.add(Dropout(0.5))\n",
        "model_conv.add(Dense(1,activation=\"sigmoid\"))\n",
        "model_conv.summary()"
      ],
      "execution_count": 11,
      "outputs": [
        {
          "output_type": "stream",
          "text": [
            "_________________________________________________________________\n",
            "Layer (type)                 Output Shape              Param #   \n",
            "=================================================================\n",
            "conv2d_4 (Conv2D)            (None, 48, 48, 32)        896       \n",
            "_________________________________________________________________\n",
            "max_pooling2d_4 (MaxPooling2 (None, 24, 24, 32)        0         \n",
            "_________________________________________________________________\n",
            "conv2d_5 (Conv2D)            (None, 22, 22, 32)        9248      \n",
            "_________________________________________________________________\n",
            "max_pooling2d_5 (MaxPooling2 (None, 11, 11, 32)        0         \n",
            "_________________________________________________________________\n",
            "conv2d_6 (Conv2D)            (None, 9, 9, 32)          9248      \n",
            "_________________________________________________________________\n",
            "max_pooling2d_6 (MaxPooling2 (None, 4, 4, 32)          0         \n",
            "_________________________________________________________________\n",
            "flatten_3 (Flatten)          (None, 512)               0         \n",
            "_________________________________________________________________\n",
            "dense_5 (Dense)              (None, 256)               131328    \n",
            "_________________________________________________________________\n",
            "dropout_4 (Dropout)          (None, 256)               0         \n",
            "_________________________________________________________________\n",
            "dense_6 (Dense)              (None, 1)                 257       \n",
            "=================================================================\n",
            "Total params: 150,977\n",
            "Trainable params: 150,977\n",
            "Non-trainable params: 0\n",
            "_________________________________________________________________\n"
          ],
          "name": "stdout"
        }
      ]
    },
    {
      "cell_type": "markdown",
      "metadata": {
        "id": "vBa3aOpH7s5q",
        "colab_type": "text"
      },
      "source": [
        "##      Compilación y Entramiento"
      ]
    },
    {
      "cell_type": "code",
      "metadata": {
        "id": "REp6yC1f8JMs",
        "colab_type": "code",
        "outputId": "4e32eca0-2688-416f-e092-ed0c370f0b86",
        "colab": {
          "base_uri": "https://localhost:8080/",
          "height": 555
        }
      },
      "source": [
        "model_conv.compile(loss='binary_crossentropy',\n",
        "               optimizer='adam',\n",
        "               metrics=['accuracy'])\n",
        "print(\"Compilado...\")\n",
        "\n",
        "\n",
        "# TRAINING --------------------------------------------------\n",
        "\n",
        "history = fit_validation(model_conv,train_generator,validation_generator)"
      ],
      "execution_count": 12,
      "outputs": [
        {
          "output_type": "stream",
          "text": [
            "Compilado...\n",
            "Epoch 1/15\n",
            "562/562 [==============================] - 41s 73ms/step - loss: 0.5624 - acc: 0.6902 - val_loss: 0.2910 - val_acc: 0.8730\n",
            "Epoch 2/15\n",
            "562/562 [==============================] - 38s 67ms/step - loss: 0.2985 - acc: 0.8854 - val_loss: 0.2849 - val_acc: 0.8963\n",
            "Epoch 3/15\n",
            "562/562 [==============================] - 39s 70ms/step - loss: 0.2880 - acc: 0.8918 - val_loss: 0.2621 - val_acc: 0.8740\n",
            "Epoch 4/15\n",
            "562/562 [==============================] - 38s 67ms/step - loss: 0.2522 - acc: 0.9071 - val_loss: 0.2141 - val_acc: 0.9228\n",
            "Epoch 5/15\n",
            "562/562 [==============================] - 39s 70ms/step - loss: 0.2645 - acc: 0.9039 - val_loss: 0.2417 - val_acc: 0.9024\n",
            "Epoch 6/15\n",
            "562/562 [==============================] - 38s 67ms/step - loss: 0.2372 - acc: 0.9143 - val_loss: 0.2207 - val_acc: 0.9157\n",
            "Epoch 7/15\n",
            "562/562 [==============================] - 39s 70ms/step - loss: 0.2407 - acc: 0.9155 - val_loss: 0.2134 - val_acc: 0.9278\n",
            "Epoch 8/15\n",
            "562/562 [==============================] - 38s 67ms/step - loss: 0.2435 - acc: 0.9141 - val_loss: 0.2373 - val_acc: 0.9075\n",
            "Epoch 9/15\n",
            "562/562 [==============================] - 41s 73ms/step - loss: 0.2468 - acc: 0.9126 - val_loss: 0.2138 - val_acc: 0.9217\n",
            "Epoch 10/15\n",
            "562/562 [==============================] - 38s 67ms/step - loss: 0.2400 - acc: 0.9150 - val_loss: 0.1788 - val_acc: 0.9411\n",
            "Epoch 11/15\n",
            "562/562 [==============================] - 39s 70ms/step - loss: 0.2274 - acc: 0.9160 - val_loss: 0.2226 - val_acc: 0.9248\n",
            "Epoch 12/15\n",
            "562/562 [==============================] - 38s 67ms/step - loss: 0.2208 - acc: 0.9199 - val_loss: 0.2021 - val_acc: 0.9309\n",
            "Epoch 13/15\n",
            "562/562 [==============================] - 39s 70ms/step - loss: 0.2233 - acc: 0.9222 - val_loss: 0.2278 - val_acc: 0.9116\n",
            "Epoch 14/15\n",
            "562/562 [==============================] - 38s 67ms/step - loss: 0.2211 - acc: 0.9192 - val_loss: 0.2064 - val_acc: 0.9248\n",
            "Epoch 15/15\n",
            "562/562 [==============================] - 40s 71ms/step - loss: 0.2243 - acc: 0.9217 - val_loss: 0.1995 - val_acc: 0.9278\n"
          ],
          "name": "stdout"
        }
      ]
    },
    {
      "cell_type": "markdown",
      "metadata": {
        "id": "Di-WKmzu_1HV",
        "colab_type": "text"
      },
      "source": [
        "# Interpretación de datos"
      ]
    },
    {
      "cell_type": "code",
      "metadata": {
        "id": "F4gXAlOu_0YY",
        "colab_type": "code",
        "outputId": "98263b40-a165-43bc-9f2a-b55b5dbdd123",
        "colab": {
          "base_uri": "https://localhost:8080/",
          "height": 562
        }
      },
      "source": [
        "print(\"Red Convolutiva con los pesos de la vgg16\")\n",
        "generatePlot(history_model_vgg16)"
      ],
      "execution_count": 0,
      "outputs": [
        {
          "output_type": "stream",
          "text": [
            "Red Convolutiva con los pesos de la vgg16\n"
          ],
          "name": "stdout"
        },
        {
          "output_type": "display_data",
          "data": {
            "image/png": "[encoded data removed]",
            "text/plain": [
              "<Figure size 432x288 with 1 Axes>"
            ]
          },
          "metadata": {
            "tags": []
          }
        },
        {
          "output_type": "display_data",
          "data": {
            "image/png": "[encoded data removed]",
            "text/plain": [
              "<Figure size 432x288 with 1 Axes>"
            ]
          },
          "metadata": {
            "tags": []
          }
        }
      ]
    },
    {
      "cell_type": "code",
      "metadata": {
        "id": "DiirLCwkt-Pv",
        "colab_type": "code",
        "outputId": "3d6a6425-a252-44fe-cf20-8cc2ceff3475",
        "colab": {
          "base_uri": "https://localhost:8080/",
          "height": 562
        }
      },
      "source": [
        "print(\"Red Convolutiva propia\")\n",
        "generatePlot(history)"
      ],
      "execution_count": 13,
      "outputs": [
        {
          "output_type": "stream",
          "text": [
            "Red Convolutiva propia\n"
          ],
          "name": "stdout"
        },
        {
          "output_type": "display_data",
          "data": {
            "image/png": "[encoded data removed]",
            "text/plain": [
              "<Figure size 432x288 with 1 Axes>"
            ]
          },
          "metadata": {
            "tags": []
          }
        },
        {
          "output_type": "display_data",
          "data": {
            "image/png": "[encoded data removed]",
            "text/plain": [
              "<Figure size 432x288 with 1 Axes>"
            ]
          },
          "metadata": {
            "tags": []
          }
        }
      ]
    },
    {
      "cell_type": "markdown",
      "metadata": {
        "id": "T-qJWuz6FZnW",
        "colab_type": "text"
      },
      "source": [
        "# Guardar los modelos"
      ]
    },
    {
      "cell_type": "code",
      "metadata": {
        "id": "o3ECIM7sFdql",
        "colab_type": "code",
        "colab": {}
      },
      "source": [
        "model_conv.save('/content/drive/My Drive/IA notebook/models/CNN_malaria.h5')\n",
        "model_vgg16.save('/content/drive/My Drive/IA notebook/models/VGG16_malaria.h5')"
      ],
      "execution_count": 0,
      "outputs": []
    }
  ]
}