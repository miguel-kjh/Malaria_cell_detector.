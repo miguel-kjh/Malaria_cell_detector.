{
  "nbformat": 4,
  "nbformat_minor": 0,
  "metadata": {
    "colab": {
      "name": "Malaria cell detector.ipynb",
      "version": "0.3.2",
      "provenance": [],
      "collapsed_sections": [
        "6iko9Kys2mpB",
        "pp1otgWC2wV-"
      ],
      "include_colab_link": true
    },
    "kernelspec": {
      "name": "python3",
      "display_name": "Python 3"
    },
    "accelerator": "GPU"
  },
  "cells": [
    {
      "cell_type": "markdown",
      "metadata": {
        "id": "view-in-github",
        "colab_type": "text"
      },
      "source": [
        "<a href=\"https://colab.research.google.com/github/miguel-kjh/Malaria_cell_detector./blob/master/Malaria_cell_detector.ipynb\" target=\"_parent\"><img src=\"https://colab.research.google.com/assets/colab-badge.svg\" alt=\"Open In Colab\"/></a>"
      ]
    },
    {
      "cell_type": "code",
      "metadata": {
        "id": "sVix1ybaZERH",
        "colab_type": "code",
        "colab": {}
      },
      "source": [
        "from keras.models import *\n",
        "from keras.layers import *\n",
        "from keras.applications import VGG16\n",
        "from keras import layers\n",
        "from keras import optimizers\n",
        "from keras import utils\n",
        "from keras.preprocessing.image import ImageDataGenerator\n",
        "import matplotlib.pyplot as plt\n",
        "import numpy as np\n",
        "from PIL import Image"
      ],
      "execution_count": 0,
      "outputs": []
    },
    {
      "cell_type": "code",
      "metadata": {
        "id": "nDLEEbQhdgZG",
        "colab_type": "code",
        "outputId": "625704e3-d7cf-4c6a-c770-6d9988d85fa4",
        "colab": {
          "base_uri": "https://localhost:8080/",
          "height": 34
        }
      },
      "source": [
        "import tensorflow as tf\n",
        "tf.test.gpu_device_name()"
      ],
      "execution_count": 22,
      "outputs": [
        {
          "output_type": "execute_result",
          "data": {
            "text/plain": [
              "'/device:GPU:0'"
            ]
          },
          "metadata": {
            "tags": []
          },
          "execution_count": 22
        }
      ]
    },
    {
      "cell_type": "code",
      "metadata": {
        "id": "ENwPKWdIE2kw",
        "colab_type": "code",
        "colab": {}
      },
      "source": [
        "def generatePlot(history):\n",
        "  acc = history.history['acc']\n",
        "  val_acc = history.history['val_acc']\n",
        "  loss = history.history['loss']\n",
        "  val_loss = history.history['val_loss']\n",
        "   \n",
        "  epochs = range(len(acc))\n",
        "   \n",
        "  plt.plot(epochs, acc, 'b', label='Training acc')\n",
        "  plt.plot(epochs, val_acc, 'r', label='Validation acc')\n",
        "  plt.title('Training and validation accuracy')\n",
        "  plt.legend()\n",
        "   \n",
        "  plt.figure()\n",
        "   \n",
        "  plt.plot(epochs, loss, 'b', label='Training loss')\n",
        "  plt.plot(epochs, val_loss, 'r', label='Validation loss')\n",
        "  plt.title('Training and validation loss')\n",
        "  plt.legend()\n",
        "   \n",
        "  plt.show()\n",
        "  \n",
        "def fit_validation(model,train,validation,epochs=15):\n",
        "  return model.fit_generator(\n",
        "            train,\n",
        "            steps_per_epoch=train.samples // batch_size,\n",
        "            epochs=epochs, \n",
        "            validation_data=validation,\n",
        "            validation_steps=validation.samples // batch_size)\n",
        "  "
      ],
      "execution_count": 0,
      "outputs": []
    },
    {
      "cell_type": "markdown",
      "metadata": {
        "id": "6iko9Kys2mpB",
        "colab_type": "text"
      },
      "source": [
        "# Se monta el directorio "
      ]
    },
    {
      "cell_type": "code",
      "metadata": {
        "id": "zYyH8xf12S_b",
        "colab_type": "code",
        "outputId": "379a2e64-3d33-4be2-c996-c9dfdda4a476",
        "colab": {
          "base_uri": "https://localhost:8080/",
          "height": 34
        }
      },
      "source": [
        "from google.colab import drive\n",
        "drive.mount('/content/drive')"
      ],
      "execution_count": 24,
      "outputs": [
        {
          "output_type": "stream",
          "text": [
            "Drive already mounted at /content/drive; to attempt to forcibly remount, call drive.mount(\"/content/drive\", force_remount=True).\n"
          ],
          "name": "stdout"
        }
      ]
    },
    {
      "cell_type": "markdown",
      "metadata": {
        "id": "pp1otgWC2wV-",
        "colab_type": "text"
      },
      "source": [
        "# Comprobación de datos"
      ]
    },
    {
      "cell_type": "code",
      "metadata": {
        "id": "T5PC2NR_3dOW",
        "colab_type": "code",
        "outputId": "d432407e-a9f7-4ef2-98ba-f4b9ce70eb2d",
        "colab": {
          "base_uri": "https://localhost:8080/",
          "height": 373
        }
      },
      "source": [
        "!ls \"/content/drive/My Drive/Colab Notebooks/Cell malaria/Uninfected\" | head -5\n",
        "pil_im_uninfected = Image.open('/content/drive/My Drive/Colab Notebooks/Cell malaria/Uninfected/C100P61ThinF_IMG_20150918_144104_cell_25.png', 'r')\n",
        "plt.imshow(np.asarray(pil_im_uninfected))"
      ],
      "execution_count": 0,
      "outputs": [
        {
          "output_type": "stream",
          "text": [
            "C100P61ThinF_IMG_20150918_144104_cell_128.png\n",
            "C100P61ThinF_IMG_20150918_144104_cell_131.png\n",
            "C100P61ThinF_IMG_20150918_144104_cell_144.png\n",
            "C100P61ThinF_IMG_20150918_144104_cell_21.png\n",
            "C100P61ThinF_IMG_20150918_144104_cell_25.png\n"
          ],
          "name": "stdout"
        },
        {
          "output_type": "execute_result",
          "data": {
            "text/plain": [
              "<matplotlib.image.AxesImage at 0x7f3ff14065c0>"
            ]
          },
          "metadata": {
            "tags": []
          },
          "execution_count": 8
        },
        {
          "output_type": "display_data",
          "data": {
            "image/png": "[encoded data removed]",
            "text/plain": [
              "<Figure size 432x288 with 1 Axes>"
            ]
          },
          "metadata": {
            "tags": []
          }
        }
      ]
    },
    {
      "cell_type": "code",
      "metadata": {
        "id": "dFyZX8o_5San",
        "colab_type": "code",
        "outputId": "ed9a35e9-58a3-4260-850d-92337eb6b3ff",
        "colab": {
          "base_uri": "https://localhost:8080/",
          "height": 373
        }
      },
      "source": [
        "!ls \"/content/drive/My Drive/Colab Notebooks/Cell malaria/Parasitized\" | head -5\n",
        "pil_im_infected = Image.open('/content/drive/My Drive/Colab Notebooks/Cell malaria/Parasitized/C100P61ThinF_IMG_20150918_144104_cell_162.png', 'r')\n",
        "plt.imshow(np.asarray(pil_im_infected))"
      ],
      "execution_count": 0,
      "outputs": [
        {
          "output_type": "stream",
          "text": [
            "C100P61ThinF_IMG_20150918_144104_cell_162.png\n",
            "C100P61ThinF_IMG_20150918_144104_cell_163.png\n",
            "C100P61ThinF_IMG_20150918_144104_cell_164.png\n",
            "C100P61ThinF_IMG_20150918_144104_cell_165.png\n",
            "C100P61ThinF_IMG_20150918_144104_cell_166.png\n"
          ],
          "name": "stdout"
        },
        {
          "output_type": "execute_result",
          "data": {
            "text/plain": [
              "<matplotlib.image.AxesImage at 0x7f3ff146f898>"
            ]
          },
          "metadata": {
            "tags": []
          },
          "execution_count": 7
        },
        {
          "output_type": "display_data",
          "data": {
            "image/png": "[encoded data removed]",
            "text/plain": [
              "<Figure size 432x288 with 1 Axes>"
            ]
          },
          "metadata": {
            "tags": []
          }
        }
      ]
    },
    {
      "cell_type": "markdown",
      "metadata": {
        "id": "Fvw3GP8SGAwT",
        "colab_type": "text"
      },
      "source": [
        "# Generación de Imagenes"
      ]
    },
    {
      "cell_type": "code",
      "metadata": {
        "id": "GjEZsWW62QFj",
        "colab_type": "code",
        "outputId": "773f6ea5-7521-4180-bcc7-9709c7b36d4b",
        "colab": {
          "base_uri": "https://localhost:8080/",
          "height": 52
        }
      },
      "source": [
        "image_size=60\n",
        "data_dir = '/content/drive/My Drive/Colab Notebooks/Cell malaria'\n",
        "batch_size = 15\n",
        "datagen = ImageDataGenerator(rescale = 1/255.,\n",
        "                             horizontal_flip = True,\n",
        "                             width_shift_range = 0.2,\n",
        "                             height_shift_range = 0.2,\n",
        "                             zoom_range = 0.3,\n",
        "                             rotation_range = 30,\n",
        "                             validation_split=0.1\n",
        "                            )\n",
        "\n",
        "train_generator = datagen.flow_from_directory(\n",
        "        data_dir,\n",
        "        target_size=(image_size, image_size),\n",
        "        batch_size=batch_size,\n",
        "        class_mode='binary',\n",
        "        subset=\"training\")\n",
        "\n",
        "validation_generator = datagen.flow_from_directory(\n",
        "        data_dir,\n",
        "        target_size=(image_size, image_size),\n",
        "        batch_size=batch_size,\n",
        "        class_mode='binary',\n",
        "        subset=\"validation\")"
      ],
      "execution_count": 75,
      "outputs": [
        {
          "output_type": "stream",
          "text": [
            "Found 9003 images belonging to 3 classes.\n",
            "Found 1000 images belonging to 3 classes.\n"
          ],
          "name": "stdout"
        }
      ]
    },
    {
      "cell_type": "markdown",
      "metadata": {
        "id": "4jJ3PxYu-I58",
        "colab_type": "text"
      },
      "source": [
        "#** Uso de la Red VGG16**"
      ]
    },
    {
      "cell_type": "markdown",
      "metadata": {
        "id": "_UUpV_t2Fw-Q",
        "colab_type": "text"
      },
      "source": [
        "## *Cargamos la VGG16 y congelamos sus pesos*"
      ]
    },
    {
      "cell_type": "code",
      "metadata": {
        "id": "HNOP_Kfl9SWj",
        "colab_type": "code",
        "outputId": "162b422f-a669-4b03-c7cb-e638b334e449",
        "colab": {
          "base_uri": "https://localhost:8080/",
          "height": 1128
        }
      },
      "source": [
        "vgg_conv = VGG16(weights='imagenet', \n",
        "                 include_top=False, \n",
        "                 input_shape=(image_size, image_size, 3))\n",
        "\n",
        "for layer in vgg_conv.layers[:7]:\n",
        "    layer.trainable = False\n",
        "    \n",
        "for layer in vgg_conv.layers[11:]:\n",
        "    layer.trainable = False\n",
        "\n",
        "    \n",
        "    \n",
        "for layer in vgg_conv.layers:\n",
        "    print(layer, layer.trainable)\n",
        "vgg_conv.summary()"
      ],
      "execution_count": 76,
      "outputs": [
        {
          "output_type": "stream",
          "text": [
            "<keras.engine.input_layer.InputLayer object at 0x7fc1c0848780> False\n",
            "<keras.layers.convolutional.Conv2D object at 0x7fc1c0848a20> False\n",
            "<keras.layers.convolutional.Conv2D object at 0x7fc1c08485c0> False\n",
            "<keras.layers.pooling.MaxPooling2D object at 0x7fc1c092cef0> False\n",
            "<keras.layers.convolutional.Conv2D object at 0x7fc1c086b4e0> False\n",
            "<keras.layers.convolutional.Conv2D object at 0x7fc1c085e588> False\n",
            "<keras.layers.pooling.MaxPooling2D object at 0x7fc2bcf880f0> False\n",
            "<keras.layers.convolutional.Conv2D object at 0x7fc1c093ef28> True\n",
            "<keras.layers.convolutional.Conv2D object at 0x7fc1c0956ba8> True\n",
            "<keras.layers.convolutional.Conv2D object at 0x7fc1c089b5f8> True\n",
            "<keras.layers.pooling.MaxPooling2D object at 0x7fc1c08a03c8> True\n",
            "<keras.layers.convolutional.Conv2D object at 0x7fc1c08a0c88> False\n",
            "<keras.layers.convolutional.Conv2D object at 0x7fc1bfb184e0> False\n",
            "<keras.layers.convolutional.Conv2D object at 0x7fc1bfb2bb00> False\n",
            "<keras.layers.pooling.MaxPooling2D object at 0x7fc1c0378278> False\n",
            "<keras.layers.convolutional.Conv2D object at 0x7fc1bfb05e80> False\n",
            "<keras.layers.convolutional.Conv2D object at 0x7fc1c038fdd8> False\n",
            "<keras.layers.convolutional.Conv2D object at 0x7fc1c03375f8> False\n",
            "<keras.layers.pooling.MaxPooling2D object at 0x7fc1c0352d68> False\n",
            "_________________________________________________________________\n",
            "Layer (type)                 Output Shape              Param #   \n",
            "=================================================================\n",
            "input_18 (InputLayer)        (None, 60, 60, 3)         0         \n",
            "_________________________________________________________________\n",
            "block1_conv1 (Conv2D)        (None, 60, 60, 64)        1792      \n",
            "_________________________________________________________________\n",
            "block1_conv2 (Conv2D)        (None, 60, 60, 64)        36928     \n",
            "_________________________________________________________________\n",
            "block1_pool (MaxPooling2D)   (None, 30, 30, 64)        0         \n",
            "_________________________________________________________________\n",
            "block2_conv1 (Conv2D)        (None, 30, 30, 128)       73856     \n",
            "_________________________________________________________________\n",
            "block2_conv2 (Conv2D)        (None, 30, 30, 128)       147584    \n",
            "_________________________________________________________________\n",
            "block2_pool (MaxPooling2D)   (None, 15, 15, 128)       0         \n",
            "_________________________________________________________________\n",
            "block3_conv1 (Conv2D)        (None, 15, 15, 256)       295168    \n",
            "_________________________________________________________________\n",
            "block3_conv2 (Conv2D)        (None, 15, 15, 256)       590080    \n",
            "_________________________________________________________________\n",
            "block3_conv3 (Conv2D)        (None, 15, 15, 256)       590080    \n",
            "_________________________________________________________________\n",
            "block3_pool (MaxPooling2D)   (None, 7, 7, 256)         0         \n",
            "_________________________________________________________________\n",
            "block4_conv1 (Conv2D)        (None, 7, 7, 512)         1180160   \n",
            "_________________________________________________________________\n",
            "block4_conv2 (Conv2D)        (None, 7, 7, 512)         2359808   \n",
            "_________________________________________________________________\n",
            "block4_conv3 (Conv2D)        (None, 7, 7, 512)         2359808   \n",
            "_________________________________________________________________\n",
            "block4_pool (MaxPooling2D)   (None, 3, 3, 512)         0         \n",
            "_________________________________________________________________\n",
            "block5_conv1 (Conv2D)        (None, 3, 3, 512)         2359808   \n",
            "_________________________________________________________________\n",
            "block5_conv2 (Conv2D)        (None, 3, 3, 512)         2359808   \n",
            "_________________________________________________________________\n",
            "block5_conv3 (Conv2D)        (None, 3, 3, 512)         2359808   \n",
            "_________________________________________________________________\n",
            "block5_pool (MaxPooling2D)   (None, 1, 1, 512)         0         \n",
            "=================================================================\n",
            "Total params: 14,714,688\n",
            "Trainable params: 1,475,328\n",
            "Non-trainable params: 13,239,360\n",
            "_________________________________________________________________\n"
          ],
          "name": "stdout"
        }
      ]
    },
    {
      "cell_type": "markdown",
      "metadata": {
        "id": "jTWLDQsq5X51",
        "colab_type": "text"
      },
      "source": [
        "## RED NEURONAL(capa densa)"
      ]
    },
    {
      "cell_type": "code",
      "metadata": {
        "id": "834dcZjW7aRQ",
        "colab_type": "code",
        "outputId": "9f1fc88e-58e6-41c8-a822-0572c2ed59c6",
        "colab": {
          "base_uri": "https://localhost:8080/",
          "height": 937
        }
      },
      "source": [
        "x = Flatten()(vgg_conv.output)\n",
        "x = Dense(128, activation='relu')(x)\n",
        "x = Dropout(0.3)(x)\n",
        "x = Dense(1, activation='sigmoid')(x)\n",
        "model_vgg16 = Model(inputs = vgg_conv.input, outputs = x)\n",
        " \n",
        "\n",
        "model_vgg16.summary()\n"
      ],
      "execution_count": 77,
      "outputs": [
        {
          "output_type": "stream",
          "text": [
            "_________________________________________________________________\n",
            "Layer (type)                 Output Shape              Param #   \n",
            "=================================================================\n",
            "input_18 (InputLayer)        (None, 60, 60, 3)         0         \n",
            "_________________________________________________________________\n",
            "block1_conv1 (Conv2D)        (None, 60, 60, 64)        1792      \n",
            "_________________________________________________________________\n",
            "block1_conv2 (Conv2D)        (None, 60, 60, 64)        36928     \n",
            "_________________________________________________________________\n",
            "block1_pool (MaxPooling2D)   (None, 30, 30, 64)        0         \n",
            "_________________________________________________________________\n",
            "block2_conv1 (Conv2D)        (None, 30, 30, 128)       73856     \n",
            "_________________________________________________________________\n",
            "block2_conv2 (Conv2D)        (None, 30, 30, 128)       147584    \n",
            "_________________________________________________________________\n",
            "block2_pool (MaxPooling2D)   (None, 15, 15, 128)       0         \n",
            "_________________________________________________________________\n",
            "block3_conv1 (Conv2D)        (None, 15, 15, 256)       295168    \n",
            "_________________________________________________________________\n",
            "block3_conv2 (Conv2D)        (None, 15, 15, 256)       590080    \n",
            "_________________________________________________________________\n",
            "block3_conv3 (Conv2D)        (None, 15, 15, 256)       590080    \n",
            "_________________________________________________________________\n",
            "block3_pool (MaxPooling2D)   (None, 7, 7, 256)         0         \n",
            "_________________________________________________________________\n",
            "block4_conv1 (Conv2D)        (None, 7, 7, 512)         1180160   \n",
            "_________________________________________________________________\n",
            "block4_conv2 (Conv2D)        (None, 7, 7, 512)         2359808   \n",
            "_________________________________________________________________\n",
            "block4_conv3 (Conv2D)        (None, 7, 7, 512)         2359808   \n",
            "_________________________________________________________________\n",
            "block4_pool (MaxPooling2D)   (None, 3, 3, 512)         0         \n",
            "_________________________________________________________________\n",
            "block5_conv1 (Conv2D)        (None, 3, 3, 512)         2359808   \n",
            "_________________________________________________________________\n",
            "block5_conv2 (Conv2D)        (None, 3, 3, 512)         2359808   \n",
            "_________________________________________________________________\n",
            "block5_conv3 (Conv2D)        (None, 3, 3, 512)         2359808   \n",
            "_________________________________________________________________\n",
            "block5_pool (MaxPooling2D)   (None, 1, 1, 512)         0         \n",
            "_________________________________________________________________\n",
            "flatten_24 (Flatten)         (None, 512)               0         \n",
            "_________________________________________________________________\n",
            "dense_51 (Dense)             (None, 128)               65664     \n",
            "_________________________________________________________________\n",
            "dropout_27 (Dropout)         (None, 128)               0         \n",
            "_________________________________________________________________\n",
            "dense_52 (Dense)             (None, 1)                 129       \n",
            "=================================================================\n",
            "Total params: 14,780,481\n",
            "Trainable params: 1,541,121\n",
            "Non-trainable params: 13,239,360\n",
            "_________________________________________________________________\n"
          ],
          "name": "stdout"
        }
      ]
    },
    {
      "cell_type": "markdown",
      "metadata": {
        "id": "pNnvaoMFHZl2",
        "colab_type": "text"
      },
      "source": [
        "## Compilación y Entrenamiento"
      ]
    },
    {
      "cell_type": "code",
      "metadata": {
        "id": "vcFu2wYJGXIN",
        "colab_type": "code",
        "outputId": "3c6bfdf7-ac90-4d2b-8379-92216a3fbbb4",
        "colab": {
          "base_uri": "https://localhost:8080/",
          "height": 555
        }
      },
      "source": [
        "model_vgg16.compile(loss='binary_crossentropy',\n",
        "               optimizer='adam',\n",
        "               metrics=['accuracy'])\n",
        "print(\"Compilado...\")\n",
        "\n",
        "\n",
        "# TRAINING --------------------------------------------------\n",
        "\n",
        "epochs = 15\n",
        "history_model_vgg16 = fit_validation(model_vgg16,train_generator,validation_generator)"
      ],
      "execution_count": 78,
      "outputs": [
        {
          "output_type": "stream",
          "text": [
            "Compilado...\n",
            "Epoch 1/15\n",
            "600/600 [==============================] - 53s 88ms/step - loss: 0.3961 - acc: 0.8087 - val_loss: 0.2257 - val_acc: 0.9192\n",
            "Epoch 2/15\n",
            "600/600 [==============================] - 47s 78ms/step - loss: 0.2409 - acc: 0.9139 - val_loss: 0.2227 - val_acc: 0.9188\n",
            "Epoch 3/15\n",
            "600/600 [==============================] - 50s 83ms/step - loss: 0.2110 - acc: 0.9240 - val_loss: 0.2117 - val_acc: 0.9015\n",
            "Epoch 4/15\n",
            "600/600 [==============================] - 48s 81ms/step - loss: 0.2105 - acc: 0.9263 - val_loss: 0.1815 - val_acc: 0.9442\n",
            "Epoch 5/15\n",
            "600/600 [==============================] - 48s 80ms/step - loss: 0.2025 - acc: 0.9288 - val_loss: 0.2021 - val_acc: 0.9259\n",
            "Epoch 6/15\n",
            "600/600 [==============================] - 49s 82ms/step - loss: 0.2022 - acc: 0.9298 - val_loss: 0.1673 - val_acc: 0.9442\n",
            "Epoch 7/15\n",
            "600/600 [==============================] - 47s 79ms/step - loss: 0.1977 - acc: 0.9308 - val_loss: 0.1751 - val_acc: 0.9320\n",
            "Epoch 8/15\n",
            "600/600 [==============================] - 48s 80ms/step - loss: 0.1978 - acc: 0.9267 - val_loss: 0.2044 - val_acc: 0.9289\n",
            "Epoch 9/15\n",
            "600/600 [==============================] - 48s 81ms/step - loss: 0.1850 - acc: 0.9356 - val_loss: 0.1743 - val_acc: 0.9340\n",
            "Epoch 10/15\n",
            "600/600 [==============================] - 49s 82ms/step - loss: 0.1874 - acc: 0.9379 - val_loss: 0.1630 - val_acc: 0.9421\n",
            "Epoch 11/15\n",
            "600/600 [==============================] - 49s 82ms/step - loss: 0.1822 - acc: 0.9336 - val_loss: 0.1756 - val_acc: 0.9421\n",
            "Epoch 12/15\n",
            "600/600 [==============================] - 47s 79ms/step - loss: 0.1857 - acc: 0.9344 - val_loss: 0.2533 - val_acc: 0.8893\n",
            "Epoch 13/15\n",
            "600/600 [==============================] - 48s 80ms/step - loss: 0.1833 - acc: 0.9366 - val_loss: 0.1985 - val_acc: 0.9178\n",
            "Epoch 14/15\n",
            "600/600 [==============================] - 48s 80ms/step - loss: 0.1805 - acc: 0.9384 - val_loss: 0.1689 - val_acc: 0.9320\n",
            "Epoch 15/15\n",
            "600/600 [==============================] - 47s 79ms/step - loss: 0.1797 - acc: 0.9381 - val_loss: 0.1569 - val_acc: 0.9442\n"
          ],
          "name": "stdout"
        }
      ]
    },
    {
      "cell_type": "markdown",
      "metadata": {
        "id": "W0k4fNTKZ-Tb",
        "colab_type": "text"
      },
      "source": [
        "# Red convolutiva, propia"
      ]
    },
    {
      "cell_type": "code",
      "metadata": {
        "id": "LJl1B8tnZ9ZC",
        "colab_type": "code",
        "outputId": "bb7c698b-f410-4ec6-ee96-68b6bcd05f0e",
        "colab": {
          "base_uri": "https://localhost:8080/",
          "height": 486
        }
      },
      "source": [
        "#creating sequential model\n",
        "model_conv=Sequential()\n",
        "model_conv.add(Conv2D(filters=32,kernel_size=3,activation=\"relu\",input_shape=(image_size,image_size,3)))\n",
        "model_conv.add(MaxPooling2D(2,2))\n",
        "\n",
        "model_conv.add(Conv2D(filters=32,kernel_size=3,activation=\"relu\"))\n",
        "model_conv.add(MaxPooling2D(2,2))\n",
        "\n",
        "model_conv.add(Conv2D(filters=32,kernel_size=3,activation=\"relu\"))\n",
        "model_conv.add(MaxPooling2D(2,2))\n",
        "\n",
        "model_conv.add(Flatten())\n",
        "model_conv.add(Dense(256,activation=\"relu\"))\n",
        "model_conv.add(Dropout(0.3))\n",
        "model_conv.add(Dense(1,activation=\"sigmoid\"))\n",
        "model_conv.summary()"
      ],
      "execution_count": 63,
      "outputs": [
        {
          "output_type": "stream",
          "text": [
            "_________________________________________________________________\n",
            "Layer (type)                 Output Shape              Param #   \n",
            "=================================================================\n",
            "conv2d_22 (Conv2D)           (None, 58, 58, 32)        896       \n",
            "_________________________________________________________________\n",
            "max_pooling2d_22 (MaxPooling (None, 29, 29, 32)        0         \n",
            "_________________________________________________________________\n",
            "conv2d_23 (Conv2D)           (None, 27, 27, 32)        9248      \n",
            "_________________________________________________________________\n",
            "max_pooling2d_23 (MaxPooling (None, 13, 13, 32)        0         \n",
            "_________________________________________________________________\n",
            "conv2d_24 (Conv2D)           (None, 11, 11, 32)        9248      \n",
            "_________________________________________________________________\n",
            "max_pooling2d_24 (MaxPooling (None, 5, 5, 32)          0         \n",
            "_________________________________________________________________\n",
            "flatten_21 (Flatten)         (None, 800)               0         \n",
            "_________________________________________________________________\n",
            "dense_45 (Dense)             (None, 256)               205056    \n",
            "_________________________________________________________________\n",
            "dropout_24 (Dropout)         (None, 256)               0         \n",
            "_________________________________________________________________\n",
            "dense_46 (Dense)             (None, 1)                 257       \n",
            "=================================================================\n",
            "Total params: 224,705\n",
            "Trainable params: 224,705\n",
            "Non-trainable params: 0\n",
            "_________________________________________________________________\n"
          ],
          "name": "stdout"
        }
      ]
    },
    {
      "cell_type": "markdown",
      "metadata": {
        "id": "vBa3aOpH7s5q",
        "colab_type": "text"
      },
      "source": [
        "##      Compilación y Entramiento"
      ]
    },
    {
      "cell_type": "code",
      "metadata": {
        "id": "REp6yC1f8JMs",
        "colab_type": "code",
        "outputId": "1be00f5a-34de-405b-ee00-ff6c17635a2b",
        "colab": {
          "base_uri": "https://localhost:8080/",
          "height": 555
        }
      },
      "source": [
        "model_conv.compile(loss='binary_crossentropy',\n",
        "               optimizer='adam',\n",
        "               metrics=['accuracy'])\n",
        "print(\"Compilado...\")\n",
        "\n",
        "\n",
        "# TRAINING --------------------------------------------------\n",
        "\n",
        "history = fit_validation(model_conv,train_generator,validation_generator)"
      ],
      "execution_count": 64,
      "outputs": [
        {
          "output_type": "stream",
          "text": [
            "Compilado...\n",
            "Epoch 1/15\n",
            "600/600 [==============================] - 47s 78ms/step - loss: 0.5613 - acc: 0.7086 - val_loss: 0.3843 - val_acc: 0.8467\n",
            "Epoch 2/15\n",
            "600/600 [==============================] - 44s 74ms/step - loss: 0.3250 - acc: 0.8702 - val_loss: 0.2566 - val_acc: 0.9066\n",
            "Epoch 3/15\n",
            "600/600 [==============================] - 43s 71ms/step - loss: 0.2923 - acc: 0.8904 - val_loss: 0.3092 - val_acc: 0.8660\n",
            "Epoch 4/15\n",
            "600/600 [==============================] - 45s 75ms/step - loss: 0.2723 - acc: 0.8969 - val_loss: 0.2348 - val_acc: 0.8914\n",
            "Epoch 5/15\n",
            "600/600 [==============================] - 43s 72ms/step - loss: 0.2614 - acc: 0.9024 - val_loss: 0.2414 - val_acc: 0.9107\n",
            "Epoch 6/15\n",
            "600/600 [==============================] - 44s 74ms/step - loss: 0.2524 - acc: 0.9062 - val_loss: 0.2263 - val_acc: 0.8975\n",
            "Epoch 7/15\n",
            "600/600 [==============================] - 44s 73ms/step - loss: 0.2490 - acc: 0.9099 - val_loss: 0.2477 - val_acc: 0.9056\n",
            "Epoch 8/15\n",
            "600/600 [==============================] - 45s 74ms/step - loss: 0.2569 - acc: 0.9061 - val_loss: 0.2508 - val_acc: 0.8904\n",
            "Epoch 9/15\n",
            "600/600 [==============================] - 43s 72ms/step - loss: 0.2494 - acc: 0.9096 - val_loss: 0.2431 - val_acc: 0.9036\n",
            "Epoch 10/15\n",
            "600/600 [==============================] - 44s 74ms/step - loss: 0.2451 - acc: 0.9116 - val_loss: 0.2260 - val_acc: 0.9005\n",
            "Epoch 11/15\n",
            "600/600 [==============================] - 45s 75ms/step - loss: 0.2365 - acc: 0.9089 - val_loss: 0.2206 - val_acc: 0.9208\n",
            "Epoch 12/15\n",
            "600/600 [==============================] - 44s 73ms/step - loss: 0.2249 - acc: 0.9201 - val_loss: 0.2338 - val_acc: 0.9096\n",
            "Epoch 13/15\n",
            "600/600 [==============================] - 44s 73ms/step - loss: 0.2303 - acc: 0.9172 - val_loss: 0.2066 - val_acc: 0.9107\n",
            "Epoch 14/15\n",
            "600/600 [==============================] - 44s 73ms/step - loss: 0.2246 - acc: 0.9169 - val_loss: 0.2073 - val_acc: 0.9299\n",
            "Epoch 15/15\n",
            "600/600 [==============================] - 44s 74ms/step - loss: 0.2207 - acc: 0.9227 - val_loss: 0.2204 - val_acc: 0.9239\n"
          ],
          "name": "stdout"
        }
      ]
    },
    {
      "cell_type": "markdown",
      "metadata": {
        "id": "Di-WKmzu_1HV",
        "colab_type": "text"
      },
      "source": [
        "# Interpretación de datos"
      ]
    },
    {
      "cell_type": "code",
      "metadata": {
        "id": "F4gXAlOu_0YY",
        "colab_type": "code",
        "outputId": "1e0b94a1-833e-4195-e919-caaef034a607",
        "colab": {
          "base_uri": "https://localhost:8080/",
          "height": 562
        }
      },
      "source": [
        "print(\"Red Convolutiva con los pesos de la vgg16\")\n",
        "generatePlot(history_model_vgg16)"
      ],
      "execution_count": 79,
      "outputs": [
        {
          "output_type": "stream",
          "text": [
            "Red Convolutiva con los pesos de la vgg16\n"
          ],
          "name": "stdout"
        },
        {
          "output_type": "display_data",
          "data": {
            "image/png": "[encoded data removed]",
            "text/plain": [
              "<Figure size 432x288 with 1 Axes>"
            ]
          },
          "metadata": {
            "tags": []
          }
        },
        {
          "output_type": "display_data",
          "data": {
            "image/png": "[encoded data removed]",
            "text/plain": [
              "<Figure size 432x288 with 1 Axes>"
            ]
          },
          "metadata": {
            "tags": []
          }
        }
      ]
    },
    {
      "cell_type": "code",
      "metadata": {
        "id": "DiirLCwkt-Pv",
        "colab_type": "code",
        "outputId": "bea85e6b-b8e4-4201-b7d4-3858ea0edeb0",
        "colab": {
          "base_uri": "https://localhost:8080/",
          "height": 562
        }
      },
      "source": [
        "print(\"Red Convolutiva propia\")\n",
        "generatePlot(history)"
      ],
      "execution_count": 74,
      "outputs": [
        {
          "output_type": "stream",
          "text": [
            "Red Convolutiva propia\n"
          ],
          "name": "stdout"
        },
        {
          "output_type": "display_data",
          "data": {
            "image/png": "[encoded data removed]",
            "text/plain": [
              "<Figure size 432x288 with 1 Axes>"
            ]
          },
          "metadata": {
            "tags": []
          }
        },
        {
          "output_type": "display_data",
          "data": {
            "image/png": "[encoded data removed]",
            "text/plain": [
              "<Figure size 432x288 with 1 Axes>"
            ]
          },
          "metadata": {
            "tags": []
          }
        }
      ]
    }
  ]
}